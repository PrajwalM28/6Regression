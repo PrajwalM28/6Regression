{
 "cells": [
  {
   "cell_type": "markdown",
   "id": "1da87435-c4f8-434b-a61f-c28e65949e78",
   "metadata": {},
   "source": [
    "# Q1.\n",
    "### What are the key steps involved in building an end-to-end web application, from development to deployment on the cloud?"
   ]
  },
  {
   "cell_type": "markdown",
   "id": "98590d8b-cf10-485f-986c-781bf200169d",
   "metadata": {},
   "source": [
    "- Requirement Analaysis\n",
    "- Design\n",
    "- Development\n",
    "- Testing\n",
    "- Deployment\n",
    "- Monitoring and Maintenance."
   ]
  },
  {
   "cell_type": "markdown",
   "id": "5867a4ce-b42b-4269-b431-c2e4f8c332f8",
   "metadata": {},
   "source": [
    "# Q2.\n",
    "###  Explain the difference between traditional web hosting and cloud hosting."
   ]
  },
  {
   "cell_type": "markdown",
   "id": "2c199e7d-4f31-47e4-8694-8019dff8e87b",
   "metadata": {},
   "source": [
    "- Traditional web hosting involves hosting your website on a physical server located in a data center owned or leased by a hosting provider. It may have limitations in terms of scalability and resource management.\n",
    "\n",
    "- Cloud hosting utilizes virtual servers hosted on a cloud infrastructure provided by companies like AWS, Azure, or Google Cloud. Cloud hosting offers scalability, flexibility, and pay-as-you-go pricing."
   ]
  },
  {
   "cell_type": "markdown",
   "id": "7087175c-d7bc-4370-b263-25f8effd8594",
   "metadata": {},
   "source": [
    "# Q3.\n",
    "### How do you choose the right cloud provider for your application deployment, and what factors should you consider?"
   ]
  },
  {
   "cell_type": "markdown",
   "id": "705a9d31-afdc-4f8d-bccb-6c5fd3ad6c3e",
   "metadata": {},
   "source": [
    "- Scalability\n",
    "- Reliability\n",
    "- Security\n",
    "- Cost\n",
    "- Performance\n",
    "- Support"
   ]
  },
  {
   "cell_type": "markdown",
   "id": "1cc9f641-5763-4fc0-aafb-a85dbc6edba8",
   "metadata": {
    "tags": []
   },
   "source": [
    "# Q4.\n",
    "### How do you design and build a responsive user interface for your web application, and what are some best practices to follow?"
   ]
  },
  {
   "cell_type": "markdown",
   "id": "7b95520c-6f0c-443c-b4e1-cdec71f4caf4",
   "metadata": {},
   "source": [
    "- Use a mobile-first approach, designing for smaller screens first and then scaling up.\n",
    "- Utilize CSS frameworks like Bootstrap or Materialize to ensure consistent styling and responsiveness.\n",
    "- Implement responsive design techniques such as media queries to adjust layout and styling based on screen size.\n",
    "- Optimize images and assets for faster loading times on mobile devices.\n",
    "- Test the user interface on different devices and screen sizes to ensure compatibility."
   ]
  },
  {
   "cell_type": "markdown",
   "id": "4c6fa913-845a-4486-a468-1f83d3c7af33",
   "metadata": {},
   "source": [
    "# Q5.\n",
    "### How do you integrate the machine learning model with the user interface for the Algerian Forest Fires project(which we discussed in class), and what APIs or libraries can you use for this purpose?"
   ]
  },
  {
   "cell_type": "markdown",
   "id": "6340b3fb-ccc6-4bd3-bbf3-ea342213a30a",
   "metadata": {},
   "source": [
    "- Flask \n",
    "- Restful API\n",
    "- Javascript Libraries\n",
    "- Deployment : Deploy the machine learning model and the web application together on a cloud platform like AWS to ensure scalability and availability."
   ]
  }
 ],
 "metadata": {
  "kernelspec": {
   "display_name": "Python 3 (ipykernel)",
   "language": "python",
   "name": "python3"
  },
  "language_info": {
   "codemirror_mode": {
    "name": "ipython",
    "version": 3
   },
   "file_extension": ".py",
   "mimetype": "text/x-python",
   "name": "python",
   "nbconvert_exporter": "python",
   "pygments_lexer": "ipython3",
   "version": "3.10.8"
  }
 },
 "nbformat": 4,
 "nbformat_minor": 5
}
